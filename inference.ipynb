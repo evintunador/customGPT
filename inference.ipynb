{
 "cells": [
  {
   "cell_type": "code",
   "execution_count": 1,
   "id": "5c8178ba-2ea0-4f4f-b9ca-c3435a83bd97",
   "metadata": {},
   "outputs": [],
   "source": [
    "# my virtual environments are rarely properly connected to jupyter so this fixes that. \n",
    "# you prolly won't need this cell but running it won't hurt anything either\n",
    "import sys\n",
    "import os\n",
    "current_dir = os.getcwd()  # Get the current working directory\n",
    "venv_dir = os.path.join(current_dir, 'venv') \n",
    "python_version = str(sys.version_info.major) + '.' + str(sys.version_info.minor)\n",
    "site_packages_path = os.path.join(venv_dir, 'lib', 'python' + python_version, 'site-packages')\n",
    "sys.path.append(site_packages_path) "
   ]
  },
  {
   "cell_type": "markdown",
   "id": "0918a651-5c6a-4a39-8b3e-a28259e4fd64",
   "metadata": {},
   "source": [
    "# Load a Pretrained Model"
   ]
  },
  {
   "cell_type": "code",
   "execution_count": 2,
   "id": "39c0ba50-83de-4ad7-b262-944e6d547ae9",
   "metadata": {},
   "outputs": [
    {
     "name": "stdout",
     "output_type": "stream",
     "text": [
      "4011.456K parameters\n",
      "ModelConfig(dim=192, device='cpu', tokenizer='bpe_v1', vocab_len=8192, num_layers=6, second_resid_norm=False, mlp_hidden_mult=4, mlp_bias=False, mlp_nonlinearity='SiLU', mlp_gated=True, num_q_heads=2, num_kv_heads=1, head_dim=96, theta=10000, max_seq_len=512, scale_first_resid=True, norm_type='RMSNorm', norm_affine=True, norm_bias=True, eps=1e-06)\n",
      "Model(\n",
      "  (token_embedder): Embedding(8195, 192)\n",
      "  (layers): ModuleList(\n",
      "    (0-5): 6 x Layer(\n",
      "      (pre_attn_norm): Norm()\n",
      "      (attn): MQA(\n",
      "        (Wq): Linear(in_features=192, out_features=192, bias=False)\n",
      "        (Wk): Linear(in_features=192, out_features=96, bias=False)\n",
      "        (Wv): Linear(in_features=192, out_features=96, bias=False)\n",
      "        (Wo): Linear(in_features=192, out_features=192, bias=False)\n",
      "      )\n",
      "      (pre_mlp_norm): Norm()\n",
      "      (mlp): MLP(\n",
      "        (Wup): Linear(in_features=192, out_features=512, bias=False)\n",
      "        (Wgate): Linear(in_features=192, out_features=512, bias=False)\n",
      "        (Wdown): Linear(in_features=512, out_features=192, bias=False)\n",
      "        (nonlinearity): SiLU()\n",
      "      )\n",
      "    )\n",
      "  )\n",
      "  (final_norm): Norm()\n",
      "  (criterion): CrossEntropyLoss()\n",
      ")\n"
     ]
    }
   ],
   "source": [
    "## pretrained model options:\n",
    "# a 1m parameter model trained for 2000 iters with many layers, thin MLP hidden dimensions & few attention heads: 'templateGPT_1m_tall_and_skinny'\n",
    "# a 1m parameter model trained for 2000 iters with layers, MLP hidden dimensions, & attention heads bw the other two: 'templateGPT_1m_5ft11_and_skinnyfat'\n",
    "# a 1m parameter model trained for 2000 iters with few layers, thick MLP hidden dimensions & many attention heads: 'templateGPT_1m_short_and_thicc'\n",
    "# a 2m parameter model trained for 4000 iters with CosineNorm: 'templateGPT_2m_CosineNorm'\n",
    "# a 2m parameter model trained for 4000 iters with LayerNorm: 'templateGPT_2m_LayerNorm'\n",
    "# a 2m parameter model trained for 4000 iters with RMSNorm: 'templateGPT_2m_RMSNorm'\n",
    "# a 3m parameter model trained for 5000 iters with a gated MLP: 'templateGPT_3m_GatedMLP'\n",
    "# a 3m parameter model trained for 5000 iters with an old-fashioned MLP: 'templateGPT_3m_GatedMLP'\n",
    "# a 4m parameter model trained for 6000 iters with GeGLU activation: 'templateGPT_4m_GeGLU'\n",
    "# a 4m parameter model trained for 6000 iters with SwiGLU activation: 'templateGPT_4m_SwiGLU'\n",
    "name = 'templateGPT_4m_SwiGLU'\n",
    "\n",
    "from tools import load_model\n",
    "model, tokenizer, cfg = load_model(name)"
   ]
  },
  {
   "cell_type": "markdown",
   "id": "8c971fce-8b3e-4732-bd66-d5d2028025d6",
   "metadata": {},
   "source": [
    "# Inference"
   ]
  },
  {
   "cell_type": "code",
   "execution_count": 3,
   "id": "a366b1fc-b620-45a0-8b42-71bdca18906d",
   "metadata": {},
   "outputs": [],
   "source": [
    "from inference import generate"
   ]
  },
  {
   "cell_type": "code",
   "execution_count": 16,
   "id": "5c202ea0-e64d-4367-a4a6-102756fe63b8",
   "metadata": {},
   "outputs": [
    {
     "name": "stdout",
     "output_type": "stream",
     "text": [
      "Once| |upon| |a| |ti|me|, |th|er|e| |was| |a| |boy| |na|me|d| |Tim|. \n"
     ]
    }
   ],
   "source": [
    "# take a look at the tokenizer\n",
    "prompt = \"Once upon a time, there was a boy named Tim. \"\n",
    "print(tokenizer.display(prompt))"
   ]
  },
  {
   "cell_type": "code",
   "execution_count": 19,
   "id": "c5b13a76-50f8-48b6-b7cf-9097d307c6e6",
   "metadata": {},
   "outputs": [
    {
     "name": "stdout",
     "output_type": "stream",
     "text": [
      "Once upon a time, there was a boy named Tim. Tim was a very enthusiastic boy who liked to play with his toy cars. He had many friends who lived with him. Tim loved his toy cars very much.\n",
      "One day, Tim found a big box in his room. He thought it would be fun to play with it. So, he went to his friend, Sue. Sue said, \"Hi Tim! I am here to play with you!\" Sue laughed and said, \"I am a magic car. I will make you feel better.\"\n",
      "Tim and Sue played with the magic car. They had lots of fun. But then, they saw a big car with a big smile. Tim was sad. He cried and said, \"Don't be sad, little boy. I will help you.\" Sue and Tim both went home with the magic car and put the car in the toy car. They played catch and had lots of fun together.\n"
     ]
    }
   ],
   "source": [
    "output = generate(\n",
    "    prompt, \n",
    "    model, \n",
    "    tokenizer,\n",
    "    #temperature = 0.5, # default value is 0.7\n",
    "    #top_k = 32, # default value is 50\n",
    "    #top_p = 0.8, # default value is 0.9\n",
    "    #max_gen_len = 420, # default value is None\n",
    "    #memory_saver_div = 2, # default value is 1, AKA no memory saving\n",
    ")\n",
    "print(output[0])"
   ]
  },
  {
   "cell_type": "code",
   "execution_count": 21,
   "id": "114de8bf-ab76-460d-8c37-ebe368b47e90",
   "metadata": {},
   "outputs": [
    {
     "name": "stdout",
     "output_type": "stream",
     "text": [
      "Once upon a time, there was a boy named Tim. Tim had a big hat with lots of things. One day, he wanted to play with his friends in the park. Tim was very happy and wanted to play with the ball.\n",
      "Tim took his friends to the park. He saw a big red ball and wanted to play with it. The ball was full of colors and the ball made them feel better. Tim and his friends were very happy to play with the ball.\n",
      "Tim and his friends played with the ball and had lots of fun. They had so much fun playing with the ball and even though they were not nice. Tim and his friends were happy they had a great time playing together. \n",
      "\n",
      "Once upon a time, there was a girl named Lucy. She loved to play outside with her toys. One day, she found a big box in her room. It was a very pretty box with a picture of a box. Lucy wanted to open the box, but she was very curious.\n",
      "Lucy went to the box and started to open the box. She saw a big box of toys inside the box. The box was a big box. Lucy was very happy. She wanted to see what was inside the box. She opened the box and found a toy box inside.\n",
      "The box was a big box. It was a toy car! Lucy was so happy and thanked her mom for the box. She took the box and made a new toy for her. She was happy to see the box that she found the box. She took the box and took the box to the box. The box was not the box, and it was very pretty and happy. Lucy was happy that she had to be careful  \n",
      "\n",
      "Once upon a time, there was a little girl named Lily. She had a toy car that she loved very much. One day, she found a big box with a big box. She thought it was very pretty.\n",
      "Lily picked it up and put the box on the floor. She put it on the box and went outside. The box was very pretty and round. Lily put the box on the box and started to fight.\n",
      "Lily took the box and put it in the box. She was very happy. She played with the box all day long. The box was very happy and the box was the best day. \n",
      "\n",
      "There once was a little girl who had never seen the button. She was very excited and couldn't wait to get a can come to the garden with her. She was so excited and couldn't wait to go to the garden to go home.\n",
      "The garden was so excited to see what was wrong. She followed her when she saw a big tree. She was so excited that she couldn't believe it. She was so excited and ran to the tree with a big smile.\n",
      "The garden was so excited and the sun was shining and the birds were singing. The garden was so happy and the garden was coming from the garden. She hugged the garden and thanked the garden for the garden. The garden said, \"You can have something fun!\"\n",
      "The garden said, \"I can have some of your came with the garden and you will go up the garden and play \n",
      "\n",
      "There once was a boy who loved to run around the park. He liked to play and run all day long. He was a very good boy who liked to run and play with his toys.\n",
      "One day, the boy saw a big tree with a smile. He wanted to play with it. So he ran to the tree and took the tree with his mouth. He was so happy and played with his toys. He would jump high and run away from the tree.\n",
      "The boy was not hurt anymore. He was a good boy who liked to play with his toys. He played with his toys and had a lot of fun. He was not a good boy who was not scared of the tree anymore. He was very happy and proud of himself. He played with his toys and had a lot of fun. \n",
      "\n",
      "There once was a girl named Jane. Jane was only three years old and loved to play with her friends. One day, she saw a big rock in the park. Jane was curious and wanted to see what was inside. She ran over to the rock and said, \"Let's go find a way to find some food.\"\n",
      "Jane and her friends went to the park to see what was inside. They saw a little girl named Lily. Lily was sad and asked her mom, \"Can I have the rock for you?\"\n",
      "Mom smiled and said, \"Yes, I can help you. Let's go to the park and play with the rock.\"\n",
      "So, they went to the park to see what was inside. They looked everywhere for the rock. They found a big rock and some food for the rock. Jane and Lily were so happy to have the friend to play with the rock.\n",
      "They all played together and had a lot of \n",
      "\n"
     ]
    }
   ],
   "source": [
    "prompts = [\n",
    "    \"Once upon a time, there was a boy named Tim. \", \n",
    "    \"Once upon a time, there was a girl named Lucy. \", \n",
    "    \"Once upon a time\", \n",
    "    \"There once was a\", \n",
    "    \"There once was a boy\", \n",
    "    \"There once was a girl\"\n",
    "]\n",
    "outputs = generate(\n",
    "    prompts, \n",
    "    model, \n",
    "    tokenizer,\n",
    "    temperature = 0.6, # default value is 0.7\n",
    "    top_k = 32, # default value is 50\n",
    "    top_p = 0.85, # default value is 0.9\n",
    "    max_gen_len = 420, # default value is None\n",
    "    #memory_saver_div = 2, # default value is 1, AKA no memory saving\n",
    ")\n",
    "for o in outputs:\n",
    "    print(o, '\\n')"
   ]
  },
  {
   "cell_type": "code",
   "execution_count": null,
   "id": "8cfe1aab-64b3-4cce-a53c-50ac62d44e88",
   "metadata": {},
   "outputs": [],
   "source": []
  }
 ],
 "metadata": {
  "kernelspec": {
   "display_name": "Python 3 (ipykernel)",
   "language": "python",
   "name": "python3"
  },
  "language_info": {
   "codemirror_mode": {
    "name": "ipython",
    "version": 3
   },
   "file_extension": ".py",
   "mimetype": "text/x-python",
   "name": "python",
   "nbconvert_exporter": "python",
   "pygments_lexer": "ipython3",
   "version": "3.11.5"
  }
 },
 "nbformat": 4,
 "nbformat_minor": 5
}
