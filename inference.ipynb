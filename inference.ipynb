{
 "cells": [
  {
   "cell_type": "code",
   "execution_count": 1,
   "id": "5c8178ba-2ea0-4f4f-b9ca-c3435a83bd97",
   "metadata": {},
   "outputs": [],
   "source": [
    "# my virtual environments are rarely properly connected to jupyter so this fixes that. \n",
    "# you prolly won't need this cell but running it won't hurt anything either\n",
    "import sys\n",
    "import os\n",
    "current_dir = os.getcwd()  # Get the current working directory\n",
    "venv_dir = os.path.join(current_dir, 'venv') \n",
    "python_version = str(sys.version_info.major) + '.' + str(sys.version_info.minor)\n",
    "site_packages_path = os.path.join(venv_dir, 'lib', 'python' + python_version, 'site-packages')\n",
    "sys.path.append(site_packages_path) "
   ]
  },
  {
   "cell_type": "markdown",
   "id": "0918a651-5c6a-4a39-8b3e-a28259e4fd64",
   "metadata": {},
   "source": [
    "# Load a Pretrained Model"
   ]
  },
  {
   "cell_type": "code",
   "execution_count": 2,
   "id": "39c0ba50-83de-4ad7-b262-944e6d547ae9",
   "metadata": {},
   "outputs": [
    {
     "name": "stdout",
     "output_type": "stream",
     "text": [
      "number of parameters: 0.01M\n",
      "Model(\n",
      "  (token_embedder): Embedding(512, 8)\n",
      "  (precompute_freqs): PrecomputeRotaryFrequencies()\n",
      "  (layers): ModuleList(\n",
      "    (0-1): 2 x Layer(\n",
      "      (pre_attn_norm): Norm()\n",
      "      (attn): SelfAttention(\n",
      "        (Wq): Linear(in_features=8, out_features=8, bias=False)\n",
      "        (Wk): Linear(in_features=8, out_features=4, bias=False)\n",
      "        (Wv): Linear(in_features=8, out_features=4, bias=False)\n",
      "        (Wo): Linear(in_features=8, out_features=8, bias=False)\n",
      "      )\n",
      "      (pre_mlp_norm): Norm()\n",
      "      (mlp): MLP(\n",
      "        (Wup): Linear(in_features=8, out_features=21, bias=False)\n",
      "        (Wgate): Linear(in_features=8, out_features=21, bias=False)\n",
      "        (Wdown): Linear(in_features=21, out_features=8, bias=False)\n",
      "        (nonlinearity): SiLU()\n",
      "      )\n",
      "    )\n",
      "  )\n",
      "  (final_norm): Norm()\n",
      "  (output): Linear(in_features=8, out_features=512, bias=False)\n",
      "  (criterion): CrossEntropyLoss()\n",
      ")\n"
     ]
    }
   ],
   "source": [
    "## pretrained model options:\n",
    "# a ?m parameter model trained for ? iters: 'templateGPT_?m'\n",
    "# an untrained absurdly tiny model used for testing with the bpe_tinyStoriesV2 tokenizer: '2024-06-30|21-27-54'\n",
    "# an untrained absurdly tiny model used for testing with the bpe_fineweb-edu tokenizer: ''\n",
    "name = '2024-06-30|21-27-54'\n",
    "\n",
    "from tools import load_model\n",
    "model, tokenizer, cfg = load_model(name)"
   ]
  },
  {
   "cell_type": "markdown",
   "id": "8c971fce-8b3e-4732-bd66-d5d2028025d6",
   "metadata": {},
   "source": [
    "# Inference"
   ]
  },
  {
   "cell_type": "code",
   "execution_count": 3,
   "id": "a366b1fc-b620-45a0-8b42-71bdca18906d",
   "metadata": {},
   "outputs": [],
   "source": [
    "from inference import generate"
   ]
  },
  {
   "cell_type": "code",
   "execution_count": 8,
   "id": "5c202ea0-e64d-4367-a4a6-102756fe63b8",
   "metadata": {},
   "outputs": [
    {
     "name": "stdout",
     "output_type": "stream",
     "text": [
      "['Once', ' upon', ' a', ' time', ',']\n"
     ]
    }
   ],
   "source": [
    "# take a look at the tokenizer\n",
    "prompt = \"Once upon a time,\"\n",
    "print(tokenizer.display(prompt))"
   ]
  },
  {
   "cell_type": "code",
   "execution_count": 9,
   "id": "c5b13a76-50f8-48b6-b7cf-9097d307c6e6",
   "metadata": {},
   "outputs": [
    {
     "name": "stdout",
     "output_type": "stream",
     "text": [
      "Once upon a time,\n",
      "nd\u001a help\n"
     ]
    }
   ],
   "source": [
    "output = generate(\n",
    "    prompt, \n",
    "    model, \n",
    "    tokenizer,\n",
    "    #temperature = 0.5, # default value is 0.7\n",
    "    #top_k = 32, # default value is 50\n",
    "    #top_p = 0.8, # default value is 0.9\n",
    "    #max_gen_len = 420, # default value is None\n",
    "    #memory_saver_div = 2, # default value is 1, AKA no memory saving\n",
    ")\n",
    "print(output[0])"
   ]
  },
  {
   "cell_type": "code",
   "execution_count": 7,
   "id": "114de8bf-ab76-460d-8c37-ebe368b47e90",
   "metadata": {},
   "outputs": [
    {
     "name": "stdout",
     "output_type": "stream",
     "text": [
      "Once upon a time thereA \n",
      "\n",
      "There once was a\u0010I \n",
      "\n",
      "There once was a boy there\u0005 \n",
      "\n",
      "There once was a girl�w \n",
      "\n"
     ]
    }
   ],
   "source": [
    "prompts = [\n",
    "    #\"Once upon a time, there was a boy named Tim. \", \n",
    "    #\"Once upon a time, there was a girl named Lucy. \", \n",
    "    \"Once upon a time\", \n",
    "    \"There once was a\", \n",
    "    #\"There once was a boy\", \n",
    "    #\"There once was a girl\"\n",
    "]\n",
    "outputs = generate(\n",
    "    prompts, \n",
    "    model, \n",
    "    tokenizer,\n",
    "    #temperature = 0.6, # default value is 0.7\n",
    "    #top_k = 32, # default value is 50\n",
    "    #top_p = 0.85, # default value is 0.9\n",
    "    #max_gen_len = 420, # default value is None\n",
    "    #memory_saver_div = 2, # default value is 1, AKA no memory saving\n",
    ")\n",
    "for o in outputs:\n",
    "    print(o, '\\n')"
   ]
  },
  {
   "cell_type": "code",
   "execution_count": null,
   "id": "8cfe1aab-64b3-4cce-a53c-50ac62d44e88",
   "metadata": {},
   "outputs": [],
   "source": []
  }
 ],
 "metadata": {
  "kernelspec": {
   "display_name": "Python 3 (ipykernel)",
   "language": "python",
   "name": "python3"
  },
  "language_info": {
   "codemirror_mode": {
    "name": "ipython",
    "version": 3
   },
   "file_extension": ".py",
   "mimetype": "text/x-python",
   "name": "python",
   "nbconvert_exporter": "python",
   "pygments_lexer": "ipython3",
   "version": "3.11.5"
  }
 },
 "nbformat": 4,
 "nbformat_minor": 5
}
