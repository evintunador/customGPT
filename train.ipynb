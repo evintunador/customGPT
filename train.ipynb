{
 "cells": [
  {
   "cell_type": "markdown",
   "id": "cb200416-d927-4302-b6b2-a0bfe159c321",
   "metadata": {},
   "source": [
    "# Setup"
   ]
  },
  {
   "cell_type": "code",
   "execution_count": 1,
   "id": "1f1ae964-36e4-4a3a-8109-306ce7cac387",
   "metadata": {},
   "outputs": [],
   "source": [
    "# my virtual environments are rarely properly connected to jupyter so this fixes that. \n",
    "# you prolly won't need this cell but running it won't hurt anything either\n",
    "import sys\n",
    "import os\n",
    "current_dir = os.getcwd()  # Get the current working directory\n",
    "venv_dir = os.path.join(current_dir, 'venv') \n",
    "python_version = str(sys.version_info.major) + '.' + str(sys.version_info.minor)\n",
    "site_packages_path = os.path.join(venv_dir, 'lib', 'python' + python_version, 'site-packages')\n",
    "sys.path.append(site_packages_path) "
   ]
  },
  {
   "cell_type": "markdown",
   "id": "426337be-2a22-41cb-8e46-494ed823c037",
   "metadata": {},
   "source": [
    "# Instantiate a brand new model"
   ]
  },
  {
   "cell_type": "code",
   "execution_count": 2,
   "id": "209f309f-df73-4183-9d1c-a4fb834e825e",
   "metadata": {},
   "outputs": [
    {
     "name": "stdout",
     "output_type": "stream",
     "text": [
      "ModelConfig(dim=16, device='cpu', out_weight_share=True, linear_bias=False, tokenizer='bpe_tinyStories', vocab_len=1024, num_layers=2, second_resid_norm=False, mlp_hidden_mult=4, mlp_nonlinearity='SiLU', mlp_gated=True, num_q_heads=2, num_kv_heads=1, head_dim=8, theta=10000, max_seq_len=32, scale_first_resid=True, norm_type='RMSNorm', norm_affine=True, norm_bias=True, eps=1e-06) \n",
      "\n",
      " TrainConfig(model_name='2024-06-25|02-08-33', dataset_name='noanabeshima/TinyStoriesV2', data_subset=None, streaming=True, micro_batch_size=8, grad_accum_steps=2, max_iters=100, eval_interval=5, eval_samples=1, checkpoint_interval=None, beta1=0.9, beta2=0.95, epsilon=1e-08, weight_decay=0.05, grad_clip=1.0, lr_init=1e-06, lr_max=0.1, lr_min=0.001, warmup_iters=10, final_flat_iters=10, anneal_type='cos', num_restarts=0, T_mult=2)\n",
      "\n",
      "number of parameters: 0.02M\n",
      "\n",
      "Model(\n",
      "  (token_embedder): Embedding(1024, 16)\n",
      "  (layers): ModuleList(\n",
      "    (0-1): 2 x Layer(\n",
      "      (pre_attn_norm): Norm()\n",
      "      (attn): SelfAttention(\n",
      "        (Wq): Linear(in_features=16, out_features=16, bias=False)\n",
      "        (Wk): Linear(in_features=16, out_features=8, bias=False)\n",
      "        (Wv): Linear(in_features=16, out_features=8, bias=False)\n",
      "        (Wo): Linear(in_features=16, out_features=16, bias=False)\n",
      "      )\n",
      "      (pre_mlp_norm): Norm()\n",
      "      (mlp): MLP(\n",
      "        (Wup): Linear(in_features=16, out_features=42, bias=False)\n",
      "        (Wgate): Linear(in_features=16, out_features=42, bias=False)\n",
      "        (Wdown): Linear(in_features=42, out_features=16, bias=False)\n",
      "        (nonlinearity): SiLU()\n",
      "      )\n",
      "    )\n",
      "  )\n",
      "  (final_norm): Norm()\n",
      "  (output): Linear(in_features=16, out_features=1024, bias=False)\n",
      "  (criterion): CrossEntropyLoss()\n",
      ")\n"
     ]
    }
   ],
   "source": [
    "# config file\n",
    "from config import ModelConfig, TrainConfig\n",
    "cfg = ModelConfig()\n",
    "tcfg = TrainConfig()\n",
    "print(cfg, '\\n\\n', tcfg)\n",
    "\n",
    "# import the tokenizer specified by cfg\n",
    "from tools import import_from_nested_path\n",
    "imported_objects = import_from_nested_path(['custom_tokenizers', cfg.tokenizer], 'tokenizer', ['get_tokenizer'])\n",
    "get_tokenizer = imported_objects.get('get_tokenizer')\n",
    "tokenizer = get_tokenizer(size = cfg.vocab_len)\n",
    "\n",
    "# the actual model modules (MLP, attention mechanism, norm, layer, etc)\n",
    "from modules.model import Model\n",
    "model = Model(cfg).to(cfg.device)\n",
    "\n",
    "import torch\n",
    "# this makes the model way more efficient\n",
    "if model.device == 'cuda':\n",
    "    model = torch.compile(model) \n",
    "    # ^if this takes too long & you're debugging you can comment it out, but def leave it on for full training runs\n",
    "\n",
    "# print the number of parameters in the model\n",
    "print(\"\\nnumber of parameters: %.2fM\\n\" % (model.get_num_params()/1e6,))\n",
    "print(model)"
   ]
  },
  {
   "cell_type": "code",
   "execution_count": 3,
   "id": "bf8d850d-a869-4e91-9a8e-1b2ffa8e9969",
   "metadata": {},
   "outputs": [],
   "source": [
    "from tools import get_data_loaders\n",
    "\n",
    "train_data_loader, test_data_loader = get_data_loaders(\n",
    "    tcfg.dataset_name, \n",
    "    batch_size = tcfg.micro_batch_size, \n",
    "    streaming = tcfg.streaming,\n",
    "    subset_name = tcfg.data_subset\n",
    ")"
   ]
  },
  {
   "cell_type": "code",
   "execution_count": 4,
   "id": "7ed64111-c48e-48f9-b9cb-20bae89d3a5f",
   "metadata": {},
   "outputs": [
    {
     "name": "stdout",
     "output_type": "stream",
     "text": [
      "num decayed parameter tensors: 15, with 21,952 parameters\n",
      "num non-decayed parameter tensors: 10, with 160 parameters\n",
      "using fused AdamW: False\n"
     ]
    }
   ],
   "source": [
    "from train import scheduler_lambda, get_optimizer, train\n",
    "\n",
    "optimizer = get_optimizer(model, tcfg)\n",
    "scheduler = torch.optim.lr_scheduler.LambdaLR(optimizer, lr_lambda=scheduler_lambda)"
   ]
  },
  {
   "cell_type": "code",
   "execution_count": 5,
   "id": "a85b7902-ee37-4963-b263-f28e72ecaf32",
   "metadata": {},
   "outputs": [],
   "source": [
    "if False: # set to true if you'd like to see a graph of the learning rate schedule\n",
    "    import matplotlib.pyplot as plt\n",
    "    \n",
    "    # Generate learning rate values\n",
    "    lrs = [scheduler_lambda(i) for i in range(tcfg.max_iters)]\n",
    "    \n",
    "    # Plot the learning rates\n",
    "    plt.figure(figsize=(10, 5))\n",
    "    plt.plot(lrs, label='Learning Rate')\n",
    "    plt.title('Learning Rate Schedule')\n",
    "    plt.xlabel('Iteration')\n",
    "    plt.ylabel('Learning Rate')\n",
    "    plt.grid(True)\n",
    "    plt.legend()\n",
    "    plt.show()"
   ]
  },
  {
   "cell_type": "markdown",
   "id": "3287e188-9a0d-47da-9d61-8885b29ba25d",
   "metadata": {},
   "source": [
    "# Training"
   ]
  },
  {
   "cell_type": "code",
   "execution_count": 6,
   "id": "32c471d7-d40a-48b9-ac3f-82371e85c24c",
   "metadata": {},
   "outputs": [
    {
     "name": "stdout",
     "output_type": "stream",
     "text": [
      "step: 0000, time elapsed: 0.00s, tokens/s: 00000000, train loss: 6.9228, val loss: 6.9284, ppl: 1021, lr: 0.00000100, grad norm: 0.0000\n",
      "step: 0005, time elapsed: 3.81s, tokens/s: 00000671, train loss: 5.9325, val loss: 5.8296, ppl: 340, lr: 0.05000050, grad norm: 0.6055\n",
      "step: 0010, time elapsed: 6.31s, tokens/s: 00001024, train loss: 5.6440, val loss: 5.4848, ppl: 241, lr: 0.10000000, grad norm: 3.3160\n",
      "step: 0015, time elapsed: 9.00s, tokens/s: 00000952, train loss: 5.1938, val loss: 5.2965, ppl: 200, lr: 0.09904887, grad norm: 4.3311\n",
      "step: 0020, time elapsed: 11.28s, tokens/s: 00001120, train loss: 4.7176, val loss: 5.4959, ppl: 244, lr: 0.09623203, grad norm: 0.5750\n",
      "step: 0025, time elapsed: 13.72s, tokens/s: 00001051, train loss: 4.9000, val loss: 4.7746, ppl: 118, lr: 0.09165774, grad norm: 0.3688\n",
      "step: 0030, time elapsed: 16.29s, tokens/s: 00000993, train loss: 4.7444, val loss: 4.7900, ppl: 120, lr: 0.08550179, grad norm: 0.5170\n",
      "step: 0035, time elapsed: 18.71s, tokens/s: 00001058, train loss: 4.7292, val loss: 4.8827, ppl: 132, lr: 0.07800072, grad norm: 0.3119\n",
      "step: 0040, time elapsed: 21.51s, tokens/s: 00000914, train loss: 4.8288, val loss: 4.7271, ppl: 113, lr: 0.06944283, grad norm: 0.4130\n",
      "step: 0045, time elapsed: 23.93s, tokens/s: 00001056, train loss: 5.0260, val loss: 4.7276, ppl: 113, lr: 0.06015697, grad norm: 0.6324\n",
      "step: 0050, time elapsed: 26.34s, tokens/s: 00001063, train loss: 4.7988, val loss: 4.7131, ppl: 111, lr: 0.05049999, grad norm: 0.5735\n",
      "step: 0055, time elapsed: 28.74s, tokens/s: 00001067, train loss: 4.4321, val loss: 4.5446, ppl: 94, lr: 0.04084303, grad norm: 0.5959\n",
      "step: 0060, time elapsed: 31.28s, tokens/s: 00001006, train loss: 4.8412, val loss: 4.6637, ppl: 106, lr: 0.03155717, grad norm: 0.3563\n",
      "step: 0065, time elapsed: 33.80s, tokens/s: 00001016, train loss: 4.2457, val loss: 4.5107, ppl: 91, lr: 0.02299927, grad norm: 0.3419\n",
      "step: 0070, time elapsed: 36.30s, tokens/s: 00001024, train loss: 4.2299, val loss: 4.7003, ppl: 110, lr: 0.01549822, grad norm: 0.4377\n",
      "step: 0075, time elapsed: 38.72s, tokens/s: 00001057, train loss: 4.6356, val loss: 4.4861, ppl: 89, lr: 0.00934225, grad norm: 0.4129\n",
      "step: 0080, time elapsed: 41.09s, tokens/s: 00001078, train loss: 4.2499, val loss: 4.3537, ppl: 78, lr: 0.00476796, grad norm: 0.2675\n",
      "step: 0085, time elapsed: 43.34s, tokens/s: 00001140, train loss: 4.3424, val loss: 4.5646, ppl: 96, lr: 0.00195113, grad norm: 0.2913\n",
      "step: 0090, time elapsed: 45.65s, tokens/s: 00001105, train loss: 4.2567, val loss: 4.2752, ppl: 72, lr: 0.00100000, grad norm: 0.3749\n",
      "step: 0095, time elapsed: 48.06s, tokens/s: 00001061, train loss: 4.2412, val loss: 4.2165, ppl: 68, lr: 0.00100000, grad norm: 0.2679\n",
      "step: 0099, time elapsed: 50.42s, tokens/s: 00000867, train loss: 4.4993, val loss: 4.5845, ppl: 98, lr: 0.00100000, grad norm: 0.4810\n"
     ]
    }
   ],
   "source": [
    "model, optimizer, log_data = train(\n",
    "    model, \n",
    "    tokenizer, \n",
    "    cfg, \n",
    "    optimizer,\n",
    "    scheduler,\n",
    "    tcfg, \n",
    "    train_data_loader,\n",
    "    test_data_loader,\n",
    "    #log_data: list = None, # for picking up training from a checkpoint\n",
    "    #detect_anomoly = False # use if you're getting crazy errors about a the gradient being broken\n",
    ")"
   ]
  },
  {
   "cell_type": "markdown",
   "id": "22cc1adb-a1fd-4f0e-8666-26b2a99a0e54",
   "metadata": {},
   "source": [
    "# inference test before you decide to save it"
   ]
  },
  {
   "cell_type": "code",
   "execution_count": 7,
   "id": "565eeefb-ce04-44c5-a0b7-81a1a75786c6",
   "metadata": {},
   "outputs": [
    {
     "name": "stdout",
     "output_type": "stream",
     "text": [
      "Once upon a time, a small little named Lily. a was to a a had a small so and little big It was cat. The her to the\n"
     ]
    }
   ],
   "source": [
    "from inference import generate\n",
    "prompt = \"Once upon a time\"\n",
    "model.eval()\n",
    "output = generate(\n",
    "    prompt, \n",
    "    model, \n",
    "    tokenizer,\n",
    "    #temperature = 0.9,\n",
    "    #top_k = 32,\n",
    "    #top_p = 0.9,\n",
    "    #max_gen_len = 512,\n",
    "    #memory_saver_div = 4,\n",
    ")\n",
    "model.train()\n",
    "print(output[0])"
   ]
  },
  {
   "cell_type": "markdown",
   "id": "70cf4ecb-0313-43a2-a35b-1f6c6e348427",
   "metadata": {},
   "source": [
    "# Saving your final model\n",
    "if `tcfg.checkpoint_interval != None` then checkpoints have already been saved\n",
    "\n",
    "you DO still need to do this even if you had been saving checkpoints; the final state has not yet been saved"
   ]
  },
  {
   "cell_type": "code",
   "execution_count": 8,
   "id": "d1c31388-e8b5-48c6-b057-e185586b0671",
   "metadata": {},
   "outputs": [],
   "source": [
    "from tools import save_model\n",
    "save_model(model, cfg, tcfg, log_data)"
   ]
  },
  {
   "cell_type": "code",
   "execution_count": null,
   "id": "303e3a1e-85cb-4fe6-a85b-1d3ec773eb0d",
   "metadata": {},
   "outputs": [],
   "source": []
  }
 ],
 "metadata": {
  "kernelspec": {
   "display_name": "Python 3 (ipykernel)",
   "language": "python",
   "name": "python3"
  },
  "language_info": {
   "codemirror_mode": {
    "name": "ipython",
    "version": 3
   },
   "file_extension": ".py",
   "mimetype": "text/x-python",
   "name": "python",
   "nbconvert_exporter": "python",
   "pygments_lexer": "ipython3",
   "version": "3.11.5"
  }
 },
 "nbformat": 4,
 "nbformat_minor": 5
}
